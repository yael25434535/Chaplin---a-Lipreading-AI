{
  "cells": [
    {
      "cell_type": "markdown",
      "metadata": {
        "id": "Hd1pBlPchNuf"
      },
      "source": [
        "<h1><center> Visual Speech Recognition - Preprocessing </center></h1>"
      ]
    },
    {
      "cell_type": "markdown",
      "metadata": {
        "id": "ugINgUhlkqk7"
      },
      "source": [
        "## 📦 Importing Libraries"
      ]
    },
    {
      "cell_type": "code",
      "source": [
        "!pip install numpy==1.26.4"
      ],
      "metadata": {
        "id": "2NyzALxMX5b0",
        "colab": {
          "base_uri": "https://localhost:8080/"
        },
        "outputId": "331d91fa-605c-4b1f-de43-a2a1cddbe383"
      },
      "execution_count": null,
      "outputs": [
        {
          "output_type": "stream",
          "name": "stdout",
          "text": [
            "Collecting numpy==1.26.4\n",
            "  Downloading numpy-1.26.4-cp311-cp311-manylinux_2_17_x86_64.manylinux2014_x86_64.whl.metadata (61 kB)\n",
            "\u001b[?25l     \u001b[90m━━━━━━━━━━━━━━━━━━━━━━━━━━━━━━━━━━━━━━━━\u001b[0m \u001b[32m0.0/61.0 kB\u001b[0m \u001b[31m?\u001b[0m eta \u001b[36m-:--:--\u001b[0m\r\u001b[2K     \u001b[90m━━━━━━━━━━━━━━━━━━━━━━━━━━━━━━━━━━━━━━━━\u001b[0m \u001b[32m61.0/61.0 kB\u001b[0m \u001b[31m1.4 MB/s\u001b[0m eta \u001b[36m0:00:00\u001b[0m\n",
            "\u001b[?25hDownloading numpy-1.26.4-cp311-cp311-manylinux_2_17_x86_64.manylinux2014_x86_64.whl (18.3 MB)\n",
            "\u001b[2K   \u001b[90m━━━━━━━━━━━━━━━━━━━━━━━━━━━━━━━━━━━━━━━━\u001b[0m \u001b[32m18.3/18.3 MB\u001b[0m \u001b[31m28.0 MB/s\u001b[0m eta \u001b[36m0:00:00\u001b[0m\n",
            "\u001b[?25hInstalling collected packages: numpy\n",
            "  Attempting uninstall: numpy\n",
            "    Found existing installation: numpy 2.0.2\n",
            "    Uninstalling numpy-2.0.2:\n",
            "      Successfully uninstalled numpy-2.0.2\n",
            "Successfully installed numpy-1.26.4\n"
          ]
        }
      ]
    },
    {
      "cell_type": "code",
      "execution_count": null,
      "metadata": {
        "id": "5zm1o-UHWMZu"
      },
      "outputs": [],
      "source": [
        "import os\n",
        "import cv2\n",
        "import tensorflow as tf\n",
        "import numpy as np\n",
        "import imageio\n",
        "import gdown\n",
        "import glob\n",
        "from google.colab import files"
      ]
    },
    {
      "cell_type": "markdown",
      "metadata": {
        "id": "eOKb8DAfk0y-"
      },
      "source": [
        "## 🗃️ Data Setup\n"
      ]
    },
    {
      "cell_type": "code",
      "source": [
        "#הורדת הדאטה הראשונית שמכילה רק דובר אחד\n",
        "url = 'https://drive.google.com/uc?id=19fi9UaWCdJnfvcQwklteyHeV8HlDSkpg'\n",
        "output = 'data.zip'\n",
        "gdown.download(url, output, quiet=False)"
      ],
      "metadata": {
        "id": "o9IUBgU1ejPo"
      },
      "execution_count": null,
      "outputs": []
    },
    {
      "cell_type": "code",
      "source": [
        "#הורדת דאטת הואלידציה\n",
        "url = 'https://drive.google.com/uc?id=1-6KDKqhPwLodMZ7BgesUTH0kNpeZc2Um'\n",
        "output = 'val.zip'\n",
        "gdown.download(url, output, quiet=False)"
      ],
      "metadata": {
        "id": "ecGKfZICeUwF"
      },
      "execution_count": null,
      "outputs": []
    },
    {
      "cell_type": "code",
      "source": [
        "#הורדת הדאטה הסופית שמכילה שישה דוברים\n",
        "url = 'https://drive.google.com/uc?id=1CvYlsHBhuUhByBXmGvEJnVKx2dp8hUsa'\n",
        "output = 'new_data.zip'\n",
        "gdown.download(url, output, quiet=False)"
      ],
      "metadata": {
        "id": "WzVekxtIeTy3"
      },
      "execution_count": null,
      "outputs": []
    },
    {
      "cell_type": "markdown",
      "metadata": {
        "id": "-kcy734rX41k"
      },
      "source": [
        "## ⚙️ Data Pre-processing pt. 1\n"
      ]
    },
    {
      "cell_type": "markdown",
      "metadata": {
        "id": "dW2IZYZP6_Uy"
      },
      "source": [
        "<div dir=\"rtl\">\n",
        "\n",
        "מייבא את הספרייה dlib ומוריד את הקובץ \"shape_predictor_68_face_landmarks.dat\", שמשמש עבור זיהוי הפנים ובפרט השפתיים.\n",
        "- **`detector`** - מזהה פרצופים בתמונה.  \n",
        "- **`predictor`** - מזהה 68  landmarks על הפנים, כמו קווי המתאר של העיניים, האף והפה.\n",
        "\n",
        "\n",
        "\n",
        "</div>\n"
      ]
    },
    {
      "cell_type": "code",
      "execution_count": null,
      "metadata": {
        "colab": {
          "base_uri": "https://localhost:8080/"
        },
        "id": "UTyQwYTtrU0o",
        "outputId": "5e9808f4-c28e-4069-a09b-f9f73e95c85d"
      },
      "outputs": [
        {
          "output_type": "stream",
          "name": "stdout",
          "text": [
            "--2025-04-02 00:42:34--  http://dlib.net/files/shape_predictor_68_face_landmarks.dat.bz2\n",
            "Resolving dlib.net (dlib.net)... 107.180.26.78\n",
            "Connecting to dlib.net (dlib.net)|107.180.26.78|:80... connected.\n",
            "HTTP request sent, awaiting response... 301 Moved Permanently\n",
            "Location: https://dlib.net/files/shape_predictor_68_face_landmarks.dat.bz2 [following]\n",
            "--2025-04-02 00:42:34--  https://dlib.net/files/shape_predictor_68_face_landmarks.dat.bz2\n",
            "Connecting to dlib.net (dlib.net)|107.180.26.78|:443... connected.\n",
            "HTTP request sent, awaiting response... 200 OK\n",
            "Length: 64040097 (61M)\n",
            "Saving to: ‘shape_predictor_68_face_landmarks.dat.bz2’\n",
            "\n",
            "shape_predictor_68_ 100%[===================>]  61.07M  39.8MB/s    in 1.5s    \n",
            "\n",
            "2025-04-02 00:42:36 (39.8 MB/s) - ‘shape_predictor_68_face_landmarks.dat.bz2’ saved [64040097/64040097]\n",
            "\n"
          ]
        }
      ],
      "source": [
        "import dlib\n",
        "!wget http://dlib.net/files/shape_predictor_68_face_landmarks.dat.bz2\n",
        "!bunzip2 shape_predictor_68_face_landmarks.dat.bz2\n",
        "\n",
        "detector = dlib.get_frontal_face_detector()\n",
        "predictor = dlib.shape_predictor('shape_predictor_68_face_landmarks.dat')"
      ]
    },
    {
      "cell_type": "code",
      "execution_count": null,
      "metadata": {
        "id": "xcEtLcydcFjO"
      },
      "outputs": [],
      "source": [
        "def load_video(path, width, height):\n",
        "    cap = cv2.VideoCapture(path)\n",
        "    frames = []\n",
        "    for _ in range(int(cap.get(cv2.CAP_PROP_FRAME_COUNT))):\n",
        "        ret, frame = cap.read()\n",
        "        frame = tf.image.rgb_to_grayscale(frame)\n",
        "        faces = detector(frame.numpy())\n",
        "        try:\n",
        "            landmarks = predictor(frame.numpy(), faces[0])\n",
        "\n",
        "            cx = (landmarks.part(48).x + landmarks.part(54).x) // 2\n",
        "            cy = (landmarks.part(48).y + landmarks.part(54).y) // 2\n",
        "\n",
        "            half_width = width // 2\n",
        "            half_height = height // 2\n",
        "\n",
        "            if (cy + half_height) > frame.shape[0]:\n",
        "                cy =  frame.shape[0] - half_height\n",
        "\n",
        "            left = cx - half_width\n",
        "            top = cy - half_height\n",
        "            right = cx + half_width\n",
        "            bottom = cy + half_height\n",
        "            frames.append(frame[top:bottom,left:right,:])\n",
        "\n",
        "        except:\n",
        "            continue\n",
        "\n",
        "\n",
        "    cap.release()\n",
        "\n",
        "    mean = tf.math.reduce_mean(frames)\n",
        "    std = tf.math.reduce_std(tf.cast(frames, tf.float32))\n",
        "    norm_frames =  tf.cast((frames - mean), tf.float32) / std\n",
        "    return norm_frames"
      ]
    },
    {
      "cell_type": "code",
      "source": [
        "def  preprocess_and_save_videos(input_path, output_dir, width, height, zip_output):\n",
        "\n",
        "    video_paths = glob.glob(input_path)\n",
        "    os.makedirs(output_dir, exist_ok=True)\n",
        "\n",
        "    for path in video_paths:\n",
        "        file_name = os.path.splitext(os.path.basename(path))[0]\n",
        "        save_path = os.path.join(output_dir, f'{file_name}.npy')\n",
        "        frames = load_video(path, width=width, height=height).numpy()\n",
        "        np.save(save_path, frames)\n",
        "        print(f\"Saved {save_path}\")\n",
        "\n",
        "    if zip_output:\n",
        "        zip_name = output_dir.rstrip('/').split('/')[-1] + '.zip'\n",
        "        !zip -r {zip_name} {output_dir}\n",
        "        print(f\"Zipped to {zip_name}\")\n",
        "        files.download(zip_name)\n"
      ],
      "metadata": {
        "id": "SNIEFO_gLH8O"
      },
      "execution_count": null,
      "outputs": []
    },
    {
      "cell_type": "markdown",
      "source": [
        "עבור שני המודלים במחברת modelsProofOfConcept"
      ],
      "metadata": {
        "id": "Mr1tK5ike6Pk"
      }
    },
    {
      "cell_type": "code",
      "source": [
        "preprocess_and_save_videos(\n",
        "    input_path='./data/s1/*.mpg',\n",
        "    output_dir='./processed_100x50',\n",
        "    width=100,\n",
        "    height=50,\n",
        "    zip_output=True,\n",
        ")\n"
      ],
      "metadata": {
        "id": "enpN2dP5XPed",
        "colab": {
          "base_uri": "https://localhost:8080/",
          "height": 35
        },
        "outputId": "1a570566-a570-48a4-be88-3720bd55759a"
      },
      "execution_count": null,
      "outputs": [
        {
          "output_type": "execute_result",
          "data": {
            "text/plain": [
              "\"\\npreprocess_and_save_videos(\\n    input_path='./data/s1/*.mpg',\\n    output_dir='./processed_100x50',\\n    width=100,\\n    height=50,\\n    zip_output=True,\\n    download_zip=True\\n)\\n\""
            ],
            "application/vnd.google.colaboratory.intrinsic+json": {
              "type": "string"
            }
          },
          "metadata": {},
          "execution_count": 4
        }
      ]
    },
    {
      "cell_type": "code",
      "source": [
        "preprocess_and_save_videos(\n",
        "    input_path='./data/s1/*.mpg',\n",
        "    output_dir='./processed_70x40',\n",
        "    width=70,\n",
        "    height=40,\n",
        "    zip_output=True,\n",
        ")"
      ],
      "metadata": {
        "id": "U2ufgVB4eoa5"
      },
      "execution_count": null,
      "outputs": []
    },
    {
      "cell_type": "markdown",
      "source": [
        "עבור אבלואציה של המודלים, עיבוד הדאטה של דובר חדש לגמרי"
      ],
      "metadata": {
        "id": "ydEwAllme9WX"
      }
    },
    {
      "cell_type": "code",
      "source": [
        "preprocess_and_save_videos(\n",
        "    input_path='./val/s3/*.mpg',\n",
        "    output_dir='./val_70x40',\n",
        "    width=70,\n",
        "    height=40,\n",
        "    zip_output=True,\n",
        ")"
      ],
      "metadata": {
        "id": "9wzX44AzeqAF"
      },
      "execution_count": null,
      "outputs": []
    },
    {
      "cell_type": "code",
      "source": [
        "preprocess_and_save_videos(\n",
        "    input_path='./val/s3/*.mpg',\n",
        "    output_dir='./val_100x50',\n",
        "    width=100,\n",
        "    height=50,\n",
        "    zip_output=True,\n",
        ")"
      ],
      "metadata": {
        "id": "4DNHtv85erIf"
      },
      "execution_count": null,
      "outputs": []
    },
    {
      "cell_type": "markdown",
      "source": [
        "עיבוד הדאטה הסופית שמורכבת משישה דוברים"
      ],
      "metadata": {
        "id": "teVf3Wg1fFEB"
      }
    },
    {
      "cell_type": "code",
      "source": [
        "preprocess_and_save_videos(\n",
        "    input_path='./new_data/s/*.mpg',\n",
        "    output_dir='./processed_new70X40',\n",
        "    width=70,\n",
        "    height=40,\n",
        "    zip_output=True,\n",
        ")"
      ],
      "metadata": {
        "id": "0CU4nrB2ezDX"
      },
      "execution_count": null,
      "outputs": []
    }
  ],
  "metadata": {
    "accelerator": "GPU",
    "colab": {
      "gpuType": "T4",
      "provenance": []
    },
    "kernelspec": {
      "display_name": "Python 3",
      "name": "python3"
    },
    "language_info": {
      "name": "python"
    }
  },
  "nbformat": 4,
  "nbformat_minor": 0
}